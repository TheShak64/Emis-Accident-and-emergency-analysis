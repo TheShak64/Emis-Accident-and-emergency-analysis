{
 "cells": [
  {
   "attachments": {},
   "cell_type": "markdown",
   "metadata": {},
   "source": [
    "# A&E attendence overview\n",
    "\n",
    "Emis-Web has a population reporting sections were reports can be run based on certain criteria. A datadump of recent \"Accident and emergancy\" is pulled from the population reporting. The data is assumed to always be in this format:\n",
    "\n"
   ]
  },
  {
   "attachments": {},
   "cell_type": "markdown",
   "metadata": {},
   "source": [
    "![title](sample.png)"
   ]
  },
  {
   "cell_type": "markdown",
   "metadata": {},
   "source": [
    "The goal is to visualise this data and see how frequent A&E attenders are and see the spread of the age group that are attending."
   ]
  },
  {
   "cell_type": "code",
   "execution_count": 1,
   "metadata": {},
   "outputs": [
    {
     "name": "stdout",
     "output_type": "stream",
     "text": [
      "<class 'pandas.core.frame.DataFrame'>\n",
      "RangeIndex: 13 entries, 0 to 12\n",
      "Data columns (total 6 columns):\n",
      "Age                      12 non-null float64\n",
      "Anonymised Identifier    12 non-null object\n",
      "Read Code                12 non-null object\n",
      "Date                     12 non-null object\n",
      "Code Term                12 non-null object\n",
      "Unnamed: 5               0 non-null float64\n",
      "dtypes: float64(2), object(4)\n",
      "memory usage: 704.0+ bytes\n",
      "\n",
      "\n",
      "First section of the data: \n"
     ]
    },
    {
     "data": {
      "text/html": [
       "<div>\n",
       "<style scoped>\n",
       "    .dataframe tbody tr th:only-of-type {\n",
       "        vertical-align: middle;\n",
       "    }\n",
       "\n",
       "    .dataframe tbody tr th {\n",
       "        vertical-align: top;\n",
       "    }\n",
       "\n",
       "    .dataframe thead th {\n",
       "        text-align: right;\n",
       "    }\n",
       "</style>\n",
       "<table border=\"1\" class=\"dataframe\">\n",
       "  <thead>\n",
       "    <tr style=\"text-align: right;\">\n",
       "      <th></th>\n",
       "      <th>Age</th>\n",
       "      <th>Anonymised Identifier</th>\n",
       "      <th>Read Code</th>\n",
       "      <th>Date</th>\n",
       "      <th>Code Term</th>\n",
       "      <th>Unnamed: 5</th>\n",
       "    </tr>\n",
       "  </thead>\n",
       "  <tbody>\n",
       "    <tr>\n",
       "      <th>0</th>\n",
       "      <td>1.0</td>\n",
       "      <td>9abaf183-2932-0a30-fe4d-78c804c5ca4a</td>\n",
       "      <td>9N19-1</td>\n",
       "      <td>11-Jun-2019</td>\n",
       "      <td>Seen in accident and emergency department</td>\n",
       "      <td>NaN</td>\n",
       "    </tr>\n",
       "    <tr>\n",
       "      <th>1</th>\n",
       "      <td>2.0</td>\n",
       "      <td>f9365f17-50fb-02c7-b087-4dde5e040631</td>\n",
       "      <td>9N19-1</td>\n",
       "      <td>11-Jun-2019</td>\n",
       "      <td>Seen in accident and emergency department</td>\n",
       "      <td>NaN</td>\n",
       "    </tr>\n",
       "    <tr>\n",
       "      <th>2</th>\n",
       "      <td>4.0</td>\n",
       "      <td>39372521-0ca0-03cb-bc1e-5198941cc1dc</td>\n",
       "      <td>9N19-1</td>\n",
       "      <td>09-Jun-2019</td>\n",
       "      <td>Seen in accident and emergency department</td>\n",
       "      <td>NaN</td>\n",
       "    </tr>\n",
       "    <tr>\n",
       "      <th>3</th>\n",
       "      <td>6.0</td>\n",
       "      <td>dedf0f25-3c3d-12ac-fd7a-48d18c001757</td>\n",
       "      <td>9N19-1</td>\n",
       "      <td>10-Jun-2019</td>\n",
       "      <td>Seen in accident and emergency department</td>\n",
       "      <td>NaN</td>\n",
       "    </tr>\n",
       "    <tr>\n",
       "      <th>4</th>\n",
       "      <td>6.0</td>\n",
       "      <td>dedf0f25-3c3d-12ac-fd7a-48d18c001757</td>\n",
       "      <td>9N19-1</td>\n",
       "      <td>10-Jun-2019</td>\n",
       "      <td>Seen in accident and emergency department</td>\n",
       "      <td>NaN</td>\n",
       "    </tr>\n",
       "  </tbody>\n",
       "</table>\n",
       "</div>"
      ],
      "text/plain": [
       "   Age                 Anonymised Identifier Read Code         Date  \\\n",
       "0  1.0  9abaf183-2932-0a30-fe4d-78c804c5ca4a    9N19-1  11-Jun-2019   \n",
       "1  2.0  f9365f17-50fb-02c7-b087-4dde5e040631    9N19-1  11-Jun-2019   \n",
       "2  4.0  39372521-0ca0-03cb-bc1e-5198941cc1dc    9N19-1  09-Jun-2019   \n",
       "3  6.0  dedf0f25-3c3d-12ac-fd7a-48d18c001757    9N19-1  10-Jun-2019   \n",
       "4  6.0  dedf0f25-3c3d-12ac-fd7a-48d18c001757    9N19-1  10-Jun-2019   \n",
       "\n",
       "                                   Code Term  Unnamed: 5  \n",
       "0  Seen in accident and emergency department         NaN  \n",
       "1  Seen in accident and emergency department         NaN  \n",
       "2  Seen in accident and emergency department         NaN  \n",
       "3  Seen in accident and emergency department         NaN  \n",
       "4  Seen in accident and emergency department         NaN  "
      ]
     },
     "execution_count": 1,
     "metadata": {},
     "output_type": "execute_result"
    }
   ],
   "source": [
    "import pandas as pd\n",
    "import sys\n",
    "import datetime as dt\n",
    "from datetime import datetime \n",
    "from datetime import datetime, time, date, timedelta\n",
    "\n",
    "\n",
    "\n",
    "#Open the datafile and load into a dataframe:\n",
    "df = pd.read_csv(\"data.csv\")\n",
    "df.info()\n",
    "print(\"\\n\\nFirst section of the data: \")\n",
    "df.head()"
   ]
  },
  {
   "cell_type": "markdown",
   "metadata": {},
   "source": [
    "At a first glance, things we need to clean:\n",
    "- remove this \"Unamed:5\" column\n",
    "- remove any NaN rows\n",
    "- \"Age\" column. Turn this into integer\n",
    "- rename \"Anonymised Identifier\" to \"ID\", something easier to manage. \n",
    "- Check if \"Date\" column is in format: datetime\n",
    "\n",
    "# Cleaning the data"
   ]
  },
  {
   "cell_type": "code",
   "execution_count": 2,
   "metadata": {
    "scrolled": true
   },
   "outputs": [],
   "source": [
    "#Drop the \"Unnamed:5\" column \n",
    "del df[\"Unnamed: 5\"]\n",
    "\n",
    "#Drop any NaN data. Shouldnt be any. \n",
    "df = df.dropna()\n",
    "\n",
    "#fixing the age column:\n",
    "df = df.astype({\"Age\": int})\n",
    "\n",
    "#rename \"Anonymised Identifier\" to \"ID\"\n",
    "df = df.rename(columns={'Anonymised Identifier': 'ID'})\n",
    "\n",
    "#convert \"date\" column into datetime from string\n",
    "df['Date'] =  pd.to_datetime(df['Date'], format='%d-%b-%Y')\n",
    "\n",
    "#df.info()\n",
    "#print(\"\\n\\nFirst section of the data: \")\n",
    "#df.head()\n"
   ]
  },
  {
   "cell_type": "markdown",
   "metadata": {},
   "source": [
    "# Prepare data for visualization\n",
    "First we will find the min_date and max_date. \n",
    "Then perhaps create a function to allow the user to choose their own range, else default to given data range\n",
    "create new df to store filtered data containing:\n",
    "| incremental dates  |  count for that date  | [list of ages]\n",
    "\n",
    "Next we will have a list of incremental dates and loop through them. for each date:\n",
    "- filter by that date and:\n",
    "    - grab count \n",
    "    - grab list of ages \n",
    "Then we can use this new df to visualise the data. "
   ]
  },
  {
   "cell_type": "code",
   "execution_count": null,
   "metadata": {},
   "outputs": [],
   "source": []
  }
 ],
 "metadata": {
  "kernelspec": {
   "display_name": "Python 3",
   "language": "python",
   "name": "python3"
  },
  "language_info": {
   "codemirror_mode": {
    "name": "ipython",
    "version": 3
   },
   "file_extension": ".py",
   "mimetype": "text/x-python",
   "name": "python",
   "nbconvert_exporter": "python",
   "pygments_lexer": "ipython3",
   "version": "3.7.1"
  }
 },
 "nbformat": 4,
 "nbformat_minor": 2
}
